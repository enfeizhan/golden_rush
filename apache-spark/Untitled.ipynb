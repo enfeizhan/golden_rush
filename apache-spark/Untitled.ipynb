{
 "cells": [
  {
   "cell_type": "code",
   "execution_count": 1,
   "metadata": {},
   "outputs": [],
   "source": [
    "from pyspark import SparkContext"
   ]
  },
  {
   "cell_type": "code",
   "execution_count": 2,
   "metadata": {},
   "outputs": [],
   "source": [
    "sc = SparkContext()"
   ]
  },
  {
   "cell_type": "code",
   "execution_count": 3,
   "metadata": {},
   "outputs": [
    {
     "data": {
      "text/html": [
       "\n",
       "        <div>\n",
       "            <p><b>SparkContext</b></p>\n",
       "\n",
       "            <p><a href=\"http://192-168-1-110.tpgi.com.au:4040\">Spark UI</a></p>\n",
       "\n",
       "            <dl>\n",
       "              <dt>Version</dt>\n",
       "                <dd><code>v3.0.1</code></dd>\n",
       "              <dt>Master</dt>\n",
       "                <dd><code>local[*]</code></dd>\n",
       "              <dt>AppName</dt>\n",
       "                <dd><code>pyspark-shell</code></dd>\n",
       "            </dl>\n",
       "        </div>\n",
       "        "
      ],
      "text/plain": [
       "<SparkContext master=local[*] appName=pyspark-shell>"
      ]
     },
     "execution_count": 3,
     "metadata": {},
     "output_type": "execute_result"
    }
   ],
   "source": [
    "sc"
   ]
  },
  {
   "cell_type": "code",
   "execution_count": 2,
   "metadata": {},
   "outputs": [],
   "source": [
    "sc = SparkContext('local[3]', 'word count')"
   ]
  },
  {
   "cell_type": "code",
   "execution_count": null,
   "metadata": {},
   "outputs": [],
   "source": []
  },
  {
   "cell_type": "code",
   "execution_count": 5,
   "metadata": {},
   "outputs": [],
   "source": [
    "lines = sc.textFile('covid')"
   ]
  },
  {
   "cell_type": "code",
   "execution_count": 9,
   "metadata": {},
   "outputs": [],
   "source": [
    "words = lines.flatMap(lambda line: line.lower().split(' '))"
   ]
  },
  {
   "cell_type": "code",
   "execution_count": 13,
   "metadata": {},
   "outputs": [],
   "source": [
    "wordCounts = words.countByValue()"
   ]
  },
  {
   "cell_type": "code",
   "execution_count": 11,
   "metadata": {},
   "outputs": [
    {
     "name": "stdout",
     "output_type": "stream",
     "text": [
      "if: 4\n",
      "a: 3\n",
      "person: 5\n",
      "gets: 1\n",
      "positive: 1\n",
      "test: 1\n",
      "result: 1\n",
      "for: 1\n",
      "covid-19,: 1\n",
      "we: 7\n",
      "do: 1\n",
      "what: 1\n",
      "is: 3\n",
      "called: 1\n",
      "‘contact: 1\n",
      "tracing’.: 1\n",
      "this: 3\n",
      "to: 4\n",
      "prevent: 1\n",
      "the: 10\n",
      "virus: 1\n",
      "spreading: 1\n",
      "further: 1\n",
      "through: 2\n",
      "community.: 1\n",
      "it: 1\n",
      "same: 1\n",
      "process: 1\n",
      "that: 2\n",
      "use: 1\n",
      "with: 6\n",
      "other: 1\n",
      "contagious: 1\n",
      "viruses: 1\n",
      "like: 1\n",
      "measles.: 1\n",
      ": 3\n",
      "as: 1\n",
      "part: 1\n",
      "of: 2\n",
      "process,: 1\n",
      "speak: 1\n",
      "sick: 4\n",
      "find: 2\n",
      "out: 1\n",
      "who: 5\n",
      "might: 1\n",
      "have: 3\n",
      "had: 4\n",
      "close: 3\n",
      "contact: 5\n",
      "them: 3\n",
      "when: 1\n",
      "they: 2\n",
      "would: 1\n",
      "been: 2\n",
      "infectious.: 1\n",
      "there: 1\n",
      "are: 1\n",
      "people: 2\n",
      "person,: 1\n",
      "our: 2\n",
      "staff: 1\n",
      "get: 2\n",
      "in: 2\n",
      "touch: 1\n",
      "directly.: 1\n",
      "start: 1\n",
      "showing: 1\n",
      "symptoms,: 1\n",
      "assessed: 1\n",
      "faster: 1\n",
      "and: 4\n",
      "take: 1\n",
      "right: 1\n",
      "action.: 1\n",
      "can’t: 1\n",
      "tested: 1\n",
      "positive,: 1\n",
      "will: 1\n",
      "issue: 1\n",
      "an: 1\n",
      "alert: 1\n",
      "on: 1\n",
      "website: 1\n",
      "media: 1\n",
      "social: 1\n",
      "media.: 1\n",
      "lists: 1\n",
      "dates,: 1\n",
      "times: 2\n",
      "places: 2\n",
      "where: 1\n",
      "was.: 1\n",
      "ask: 1\n",
      "public: 1\n",
      "may: 1\n",
      "at: 1\n",
      "one: 1\n",
      "those: 1\n",
      "or: 1\n",
      "us.: 1\n"
     ]
    }
   ],
   "source": [
    "for word, count in wordCounts.items():\n",
    "    print('{}: {}'.format(word, count))"
   ]
  },
  {
   "cell_type": "code",
   "execution_count": null,
   "metadata": {},
   "outputs": [],
   "source": []
  }
 ],
 "metadata": {
  "kernelspec": {
   "display_name": "Python 3",
   "language": "python",
   "name": "python3"
  },
  "language_info": {
   "codemirror_mode": {
    "name": "ipython",
    "version": 3
   },
   "file_extension": ".py",
   "mimetype": "text/x-python",
   "name": "python",
   "nbconvert_exporter": "python",
   "pygments_lexer": "ipython3",
   "version": "3.8.5"
  }
 },
 "nbformat": 4,
 "nbformat_minor": 4
}
